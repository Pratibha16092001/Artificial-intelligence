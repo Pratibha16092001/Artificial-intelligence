{
 "cells": [
  {
   "cell_type": "code",
   "execution_count": 1,
   "id": "f96186b8",
   "metadata": {},
   "outputs": [],
   "source": [
    "#Create array in numpy"
   ]
  },
  {
   "cell_type": "code",
   "execution_count": 2,
   "id": "b2237b3d",
   "metadata": {},
   "outputs": [],
   "source": [
    "#create array using np.array() method\n",
    "\n",
    "import numpy as np"
   ]
  },
  {
   "cell_type": "code",
   "execution_count": 5,
   "id": "62e5b349",
   "metadata": {},
   "outputs": [
    {
     "name": "stdout",
     "output_type": "stream",
     "text": [
      "[1, 2, 3, 4, 5, 6]\n",
      "<class 'list'>\n"
     ]
    }
   ],
   "source": [
    "l1=[1,2,3,4,5,6]\n",
    "print(l1)\n",
    "print(type(l1))"
   ]
  },
  {
   "cell_type": "code",
   "execution_count": 9,
   "id": "865b3f64",
   "metadata": {},
   "outputs": [],
   "source": [
    "a1=np.array(l1)"
   ]
  },
  {
   "cell_type": "code",
   "execution_count": 10,
   "id": "6962bfa8",
   "metadata": {},
   "outputs": [
    {
     "name": "stdout",
     "output_type": "stream",
     "text": [
      "[1 2 3 4 5 6]\n"
     ]
    }
   ],
   "source": [
    "print(a1)"
   ]
  },
  {
   "cell_type": "code",
   "execution_count": 11,
   "id": "ba310b1f",
   "metadata": {},
   "outputs": [
    {
     "name": "stdout",
     "output_type": "stream",
     "text": [
      "<class 'numpy.ndarray'>\n"
     ]
    }
   ],
   "source": [
    "print(type(a1))"
   ]
  },
  {
   "cell_type": "code",
   "execution_count": 25,
   "id": "79110d08",
   "metadata": {},
   "outputs": [],
   "source": [
    "a2=np.array([12,14,14,15,16])"
   ]
  },
  {
   "cell_type": "code",
   "execution_count": 26,
   "id": "d5d2ff10",
   "metadata": {},
   "outputs": [
    {
     "name": "stdout",
     "output_type": "stream",
     "text": [
      "<class 'numpy.ndarray'>\n"
     ]
    }
   ],
   "source": [
    "print(type(a2))"
   ]
  },
  {
   "cell_type": "code",
   "execution_count": 27,
   "id": "ba481f7f",
   "metadata": {},
   "outputs": [
    {
     "data": {
      "text/plain": [
       "16"
      ]
     },
     "execution_count": 27,
     "metadata": {},
     "output_type": "execute_result"
    }
   ],
   "source": [
    "#statistical function in numpy\n",
    "\n",
    "max_el=np.max(a2)\n",
    "max_el"
   ]
  },
  {
   "cell_type": "code",
   "execution_count": 28,
   "id": "4fe3b9da",
   "metadata": {},
   "outputs": [
    {
     "data": {
      "text/plain": [
       "12"
      ]
     },
     "execution_count": 28,
     "metadata": {},
     "output_type": "execute_result"
    }
   ],
   "source": [
    "min_el=np.min(a2)\n",
    "min_el"
   ]
  },
  {
   "cell_type": "code",
   "execution_count": 29,
   "id": "2642b55a",
   "metadata": {},
   "outputs": [
    {
     "data": {
      "text/plain": [
       "14.2"
      ]
     },
     "execution_count": 29,
     "metadata": {},
     "output_type": "execute_result"
    }
   ],
   "source": [
    "mean=np.mean(a2)\n",
    "mean"
   ]
  },
  {
   "cell_type": "code",
   "execution_count": 30,
   "id": "3dcb3035",
   "metadata": {},
   "outputs": [
    {
     "data": {
      "text/plain": [
       "14.0"
      ]
     },
     "execution_count": 30,
     "metadata": {},
     "output_type": "execute_result"
    }
   ],
   "source": [
    "med=np.median(a2)\n",
    "med"
   ]
  },
  {
   "cell_type": "code",
   "execution_count": 31,
   "id": "097df97d",
   "metadata": {},
   "outputs": [
    {
     "data": {
      "text/plain": [
       "1.32664991614216"
      ]
     },
     "execution_count": 31,
     "metadata": {},
     "output_type": "execute_result"
    }
   ],
   "source": [
    "std=np.std(a2)\n",
    "std"
   ]
  },
  {
   "cell_type": "code",
   "execution_count": 32,
   "id": "a6294313",
   "metadata": {},
   "outputs": [
    {
     "data": {
      "text/plain": [
       "1.7600000000000002"
      ]
     },
     "execution_count": 32,
     "metadata": {},
     "output_type": "execute_result"
    }
   ],
   "source": [
    "var=np.var(a2)\n",
    "var"
   ]
  },
  {
   "cell_type": "code",
   "execution_count": 34,
   "id": "2bd8d3c3",
   "metadata": {},
   "outputs": [
    {
     "data": {
      "text/plain": [
       "14.2"
      ]
     },
     "execution_count": 34,
     "metadata": {},
     "output_type": "execute_result"
    }
   ],
   "source": [
    "avg=np.average(a2)\n",
    "avg"
   ]
  },
  {
   "cell_type": "code",
   "execution_count": 37,
   "id": "8215f034",
   "metadata": {},
   "outputs": [
    {
     "data": {
      "text/plain": [
       "14.24"
      ]
     },
     "execution_count": 37,
     "metadata": {},
     "output_type": "execute_result"
    }
   ],
   "source": [
    "#give one more attribute i.e.how much percentile do u want\n",
    "percentile=np.percentile(a2,56)\n",
    "percentile"
   ]
  },
  {
   "cell_type": "code",
   "execution_count": 36,
   "id": "d88283eb",
   "metadata": {},
   "outputs": [
    {
     "data": {
      "text/plain": [
       "4"
      ]
     },
     "execution_count": 36,
     "metadata": {},
     "output_type": "execute_result"
    }
   ],
   "source": [
    "ptp=np.ptp(a2)\n",
    "ptp"
   ]
  },
  {
   "cell_type": "code",
   "execution_count": 38,
   "id": "f3add086",
   "metadata": {},
   "outputs": [],
   "source": [
    "arr1=np.array([1,2,3,4,5,6])"
   ]
  },
  {
   "cell_type": "code",
   "execution_count": 43,
   "id": "beddd791",
   "metadata": {},
   "outputs": [
    {
     "name": "stdout",
     "output_type": "stream",
     "text": [
      "2.25\n",
      "3.5\n",
      "4.75\n",
      "3.5\n",
      "3.5\n"
     ]
    }
   ],
   "source": [
    "print(np.percentile(arr1,25))\n",
    "print(np.percentile(arr1,50))\n",
    "print(np.percentile(arr1,75))\n",
    "print(np.mean(arr1))\n",
    "print(np.median(arr1))"
   ]
  },
  {
   "cell_type": "code",
   "execution_count": 44,
   "id": "e931eaaa",
   "metadata": {},
   "outputs": [],
   "source": [
    "#generate array using linespace- i.e.how many elements do you want"
   ]
  },
  {
   "cell_type": "code",
   "execution_count": 49,
   "id": "add419cf",
   "metadata": {},
   "outputs": [],
   "source": [
    "arr2=np.linspace(2,20,8)"
   ]
  },
  {
   "cell_type": "code",
   "execution_count": 50,
   "id": "e1d109ce",
   "metadata": {},
   "outputs": [
    {
     "data": {
      "text/plain": [
       "array([ 2.        ,  4.57142857,  7.14285714,  9.71428571, 12.28571429,\n",
       "       14.85714286, 17.42857143, 20.        ])"
      ]
     },
     "execution_count": 50,
     "metadata": {},
     "output_type": "execute_result"
    }
   ],
   "source": [
    "arr2"
   ]
  },
  {
   "cell_type": "code",
   "execution_count": 51,
   "id": "1135ee50",
   "metadata": {},
   "outputs": [],
   "source": [
    "#generte array using np.arrange -print elemetns by the constant differeance"
   ]
  },
  {
   "cell_type": "code",
   "execution_count": 53,
   "id": "b59bfcc4",
   "metadata": {},
   "outputs": [
    {
     "data": {
      "text/plain": [
       "array([ 2,  5,  8, 11, 14, 17])"
      ]
     },
     "execution_count": 53,
     "metadata": {},
     "output_type": "execute_result"
    }
   ],
   "source": [
    "arr3=np.arange(2,20,3)\n",
    "arr3"
   ]
  },
  {
   "cell_type": "code",
   "execution_count": 55,
   "id": "c07d6606",
   "metadata": {},
   "outputs": [
    {
     "data": {
      "text/plain": [
       "array([[1., 1., 1.],\n",
       "       [1., 1., 1.]])"
      ]
     },
     "execution_count": 55,
     "metadata": {},
     "output_type": "execute_result"
    }
   ],
   "source": [
    "arr4=np.ones((2,3))\n",
    "arr4"
   ]
  },
  {
   "cell_type": "code",
   "execution_count": 56,
   "id": "a4b2a9cb",
   "metadata": {},
   "outputs": [
    {
     "data": {
      "text/plain": [
       "array([[0., 0., 0.],\n",
       "       [0., 0., 0.]])"
      ]
     },
     "execution_count": 56,
     "metadata": {},
     "output_type": "execute_result"
    }
   ],
   "source": [
    "arr5=np.zeros((2,3))\n",
    "arr5"
   ]
  },
  {
   "cell_type": "code",
   "execution_count": 57,
   "id": "7939a584",
   "metadata": {},
   "outputs": [],
   "source": [
    "#generate array using random numbers"
   ]
  },
  {
   "cell_type": "code",
   "execution_count": 64,
   "id": "df318a67",
   "metadata": {},
   "outputs": [
    {
     "data": {
      "text/plain": [
       "array([[0.45142481, 0.44921764, 0.26531207],\n",
       "       [0.68086786, 0.89987573, 0.22956753]])"
      ]
     },
     "execution_count": 64,
     "metadata": {},
     "output_type": "execute_result"
    }
   ],
   "source": [
    "arr6=np.random.rand(2,3)\n",
    "arr6"
   ]
  },
  {
   "cell_type": "markdown",
   "id": "0cd3da06",
   "metadata": {},
   "source": [
    "arr5.shape"
   ]
  },
  {
   "cell_type": "code",
   "execution_count": 65,
   "id": "3cb93a04",
   "metadata": {},
   "outputs": [
    {
     "data": {
      "text/plain": [
       "(2, 3)"
      ]
     },
     "execution_count": 65,
     "metadata": {},
     "output_type": "execute_result"
    }
   ],
   "source": [
    "arr5.shape"
   ]
  },
  {
   "cell_type": "code",
   "execution_count": 67,
   "id": "1b38ecf1",
   "metadata": {},
   "outputs": [
    {
     "data": {
      "text/plain": [
       "6"
      ]
     },
     "execution_count": 67,
     "metadata": {},
     "output_type": "execute_result"
    }
   ],
   "source": [
    "arr5.size"
   ]
  },
  {
   "cell_type": "code",
   "execution_count": 71,
   "id": "2b05c710",
   "metadata": {},
   "outputs": [],
   "source": [
    "###generate array using logspace"
   ]
  },
  {
   "cell_type": "code",
   "execution_count": null,
   "id": "473f8859",
   "metadata": {},
   "outputs": [],
   "source": []
  }
 ],
 "metadata": {
  "kernelspec": {
   "display_name": "Python 3",
   "language": "python",
   "name": "python3"
  },
  "language_info": {
   "codemirror_mode": {
    "name": "ipython",
    "version": 3
   },
   "file_extension": ".py",
   "mimetype": "text/x-python",
   "name": "python",
   "nbconvert_exporter": "python",
   "pygments_lexer": "ipython3",
   "version": "3.8.8"
  }
 },
 "nbformat": 4,
 "nbformat_minor": 5
}
